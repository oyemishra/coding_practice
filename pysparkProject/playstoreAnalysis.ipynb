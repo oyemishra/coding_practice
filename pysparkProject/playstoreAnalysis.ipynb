{
 "cells": [
  {
   "cell_type": "markdown",
   "metadata": {},
   "source": [
    "# Google Playstore App Data Analysis"
   ]
  },
  {
   "cell_type": "markdown",
   "metadata": {},
   "source": [
    "##### dataset source: https://www.kaggle.com/datasets/lava18/google-play-store-apps/download?datasetVersionNumber=6\n",
    "\n",
    "## Agenda: We have google playstore data containing information of different apps installed, rating, versions and other details\n",
    "\n",
    "### we are going to answer the following questions:\n",
    "- top 10 total reviews given to the apps\n",
    "- top 10 installed apps and their distribution type\n",
    "- Category wise distribution of installed apps\n",
    "- Top paid apps\n",
    "- Top 10 paid apps with highest rating"
   ]
  },
  {
   "cell_type": "code",
   "execution_count": 2,
   "metadata": {
    "application/vnd.databricks.v1+cell": {
     "cellMetadata": {
      "byteLimit": 2048000,
      "rowLimit": 10000
     },
     "inputWidgets": {},
     "nuid": "d5813bf4-97e4-4149-87df-c0bf670db726",
     "showTitle": true,
     "title": "Import necessary libraries"
    }
   },
   "outputs": [],
   "source": [
    "# importing required libraries\n",
    "import pyspark\n",
    "from pyspark.sql import SparkSession\n",
    "from pyspark.sql.types import StructType, StructField, StringType, IntegerType, DoubleType\n",
    "from pyspark.sql.functions import *"
   ]
  },
  {
   "cell_type": "markdown",
   "metadata": {},
   "source": [
    "### Reading the file from databricks file storage"
   ]
  },
  {
   "cell_type": "code",
   "execution_count": 0,
   "metadata": {
    "application/vnd.databricks.v1+cell": {
     "cellMetadata": {
      "byteLimit": 2048000,
      "rowLimit": 10000
     },
     "inputWidgets": {},
     "nuid": "832e862c-85c5-4854-8791-380d3eab870f",
     "showTitle": true,
     "title": "Create a DataFrame"
    }
   },
   "outputs": [],
   "source": [
    "df = spark.read.format(\"csv\").option(\"header\",\"true\").option(\"inferSchema\",\"true\").load(\"/FileStore/tables/googleplaystore.csv\")"
   ]
  },
  {
   "cell_type": "code",
   "execution_count": 0,
   "metadata": {
    "application/vnd.databricks.v1+cell": {
     "cellMetadata": {
      "byteLimit": 2048000,
      "rowLimit": 10000
     },
     "inputWidgets": {},
     "nuid": "0b03d284-be09-435d-a2dd-f34eb76a603a",
     "showTitle": false,
     "title": ""
    }
   },
   "outputs": [
    {
     "name": "stdout",
     "output_type": "stream",
     "text": [
      "Out[10]: 10841"
     ]
    }
   ],
   "source": [
    "df.count()"
   ]
  },
  {
   "cell_type": "code",
   "execution_count": 0,
   "metadata": {
    "application/vnd.databricks.v1+cell": {
     "cellMetadata": {
      "byteLimit": 2048000,
      "rowLimit": 10000
     },
     "inputWidgets": {},
     "nuid": "0d0c6816-c751-40c4-bfb9-967c0e871de2",
     "showTitle": false,
     "title": ""
    }
   },
   "outputs": [
    {
     "name": "stdout",
     "output_type": "stream",
     "text": [
      "Out[11]: ['App',\n",
      " 'Category',\n",
      " 'Rating',\n",
      " 'Reviews',\n",
      " 'Size',\n",
      " 'Installs',\n",
      " 'Type',\n",
      " 'Price',\n",
      " 'Content Rating',\n",
      " 'Genres',\n",
      " 'Last Updated',\n",
      " 'Current Ver',\n",
      " 'Android Ver']"
     ]
    }
   ],
   "source": [
    "df.columns"
   ]
  },
  {
   "cell_type": "code",
   "execution_count": 0,
   "metadata": {
    "application/vnd.databricks.v1+cell": {
     "cellMetadata": {
      "byteLimit": 2048000,
      "rowLimit": 10000
     },
     "inputWidgets": {},
     "nuid": "083b3f48-7d81-493d-b4d8-2dfa9ef88289",
     "showTitle": false,
     "title": ""
    }
   },
   "outputs": [
    {
     "name": "stdout",
     "output_type": "stream",
     "text": [
      "+--------------------+--------------+------+-------+----+--------+----+-----+--------------+------------+---------------+-----------+------------+\n",
      "|                 App|      Category|Rating|Reviews|Size|Installs|Type|Price|Content Rating|      Genres|   Last Updated|Current Ver| Android Ver|\n",
      "+--------------------+--------------+------+-------+----+--------+----+-----+--------------+------------+---------------+-----------+------------+\n",
      "|Photo Editor & Ca...|ART_AND_DESIGN|   4.1|    159| 19M| 10,000+|Free|    0|      Everyone|Art & Design|January 7, 2018|      1.0.0|4.0.3 and up|\n",
      "+--------------------+--------------+------+-------+----+--------+----+-----+--------------+------------+---------------+-----------+------------+\n",
      "only showing top 1 row\n",
      "\n"
     ]
    }
   ],
   "source": [
    "df.show(1)"
   ]
  },
  {
   "cell_type": "code",
   "execution_count": 0,
   "metadata": {
    "application/vnd.databricks.v1+cell": {
     "cellMetadata": {
      "byteLimit": 2048000,
      "rowLimit": 10000
     },
     "inputWidgets": {},
     "nuid": "0a9ebb92-de66-4f53-aad6-c5849126c34e",
     "showTitle": false,
     "title": ""
    }
   },
   "outputs": [
    {
     "name": "stdout",
     "output_type": "stream",
     "text": [
      "root\n",
      " |-- App: string (nullable = true)\n",
      " |-- Category: string (nullable = true)\n",
      " |-- Rating: string (nullable = true)\n",
      " |-- Reviews: string (nullable = true)\n",
      " |-- Size: string (nullable = true)\n",
      " |-- Installs: string (nullable = true)\n",
      " |-- Type: string (nullable = true)\n",
      " |-- Price: string (nullable = true)\n",
      " |-- Content Rating: string (nullable = true)\n",
      " |-- Genres: string (nullable = true)\n",
      " |-- Last Updated: string (nullable = true)\n",
      " |-- Current Ver: string (nullable = true)\n",
      " |-- Android Ver: string (nullable = true)\n",
      "\n"
     ]
    }
   ],
   "source": [
    "df.printSchema()"
   ]
  },
  {
   "cell_type": "markdown",
   "metadata": {},
   "source": [
    "### Dropping the unwanted columns"
   ]
  },
  {
   "cell_type": "code",
   "execution_count": 0,
   "metadata": {
    "application/vnd.databricks.v1+cell": {
     "cellMetadata": {
      "byteLimit": 2048000,
      "rowLimit": 10000
     },
     "inputWidgets": {},
     "nuid": "224728ff-4667-4ba9-ba54-c3d2a405c909",
     "showTitle": true,
     "title": "Data Cleaning"
    }
   },
   "outputs": [
    {
     "name": "stdout",
     "output_type": "stream",
     "text": [
      "+--------------------+--------------+------+-------+--------+----+-----+------------+\n",
      "|                 App|      Category|rating|reviews|installs|Type|price|      Genres|\n",
      "+--------------------+--------------+------+-------+--------+----+-----+------------+\n",
      "|Photo Editor & Ca...|ART_AND_DESIGN|   4.1|    159|   10000|Free|    0|Art & Design|\n",
      "+--------------------+--------------+------+-------+--------+----+-----+------------+\n",
      "only showing top 1 row\n",
      "\n"
     ]
    }
   ],
   "source": [
    "# We will drop some columns that is of no/less use in our analysis\n",
    "df = df.drop(\"size\", \"content rating\", \"last updated\", \"Android Ver\", \"current ver\")\n",
    "df.show(1)"
   ]
  },
  {
   "cell_type": "code",
   "execution_count": 0,
   "metadata": {
    "application/vnd.databricks.v1+cell": {
     "cellMetadata": {
      "byteLimit": 2048000,
      "rowLimit": 10000
     },
     "inputWidgets": {},
     "nuid": "068588b4-4df1-48a4-87af-b15491baff45",
     "showTitle": false,
     "title": ""
    }
   },
   "outputs": [
    {
     "name": "stdout",
     "output_type": "stream",
     "text": [
      "root\n",
      " |-- App: string (nullable = true)\n",
      " |-- Category: string (nullable = true)\n",
      " |-- rating: double (nullable = true)\n",
      " |-- reviews: integer (nullable = true)\n",
      " |-- installs: integer (nullable = true)\n",
      " |-- Type: string (nullable = true)\n",
      " |-- price: integer (nullable = true)\n",
      " |-- Genres: string (nullable = true)\n",
      "\n"
     ]
    }
   ],
   "source": [
    "df.printSchema()"
   ]
  },
  {
   "cell_type": "markdown",
   "metadata": {},
   "source": [
    "### Cleaning the data and changing the datatypes of the columns"
   ]
  },
  {
   "cell_type": "code",
   "execution_count": 0,
   "metadata": {
    "application/vnd.databricks.v1+cell": {
     "cellMetadata": {
      "byteLimit": 2048000,
      "rowLimit": 10000
     },
     "inputWidgets": {},
     "nuid": "b6787c8d-13cb-4fc3-8275-5490e11aa926",
     "showTitle": false,
     "title": ""
    }
   },
   "outputs": [],
   "source": [
    "# we will cast rating, reviews, installs and price column as integer\n",
    "# we will regexp_replace the '+' symbol from installs and the '$' symbol from price\n",
    "from pyspark.sql.functions import regexp_replace, col\n",
    "df = df.withColumn('rating', col('rating').cast(DoubleType())) \\\n",
    "    .withColumn('reviews', col('reviews').cast(IntegerType())) \\\n",
    "        .withColumn('installs', regexp_replace(col('installs'),\"[^0-9]\",\"\")) \\\n",
    "            .withColumn('installs', col('installs').cast(IntegerType())) \\\n",
    "                .withColumn('price', regexp_replace(col('price'),\"[$]\",\"\")) \\\n",
    "                    .withColumn('price', col('price').cast(IntegerType()))"
   ]
  },
  {
   "cell_type": "code",
   "execution_count": 0,
   "metadata": {
    "application/vnd.databricks.v1+cell": {
     "cellMetadata": {
      "byteLimit": 2048000,
      "rowLimit": 10000
     },
     "inputWidgets": {},
     "nuid": "097c14c2-7ae3-4f78-8279-708bcf390186",
     "showTitle": false,
     "title": ""
    }
   },
   "outputs": [
    {
     "name": "stdout",
     "output_type": "stream",
     "text": [
      "root\n",
      " |-- App: string (nullable = true)\n",
      " |-- Category: string (nullable = true)\n",
      " |-- rating: double (nullable = true)\n",
      " |-- reviews: integer (nullable = true)\n",
      " |-- installs: integer (nullable = true)\n",
      " |-- Type: string (nullable = true)\n",
      " |-- price: integer (nullable = true)\n",
      " |-- Genres: string (nullable = true)\n",
      "\n"
     ]
    }
   ],
   "source": [
    "df.printSchema()"
   ]
  },
  {
   "cell_type": "code",
   "execution_count": 0,
   "metadata": {
    "application/vnd.databricks.v1+cell": {
     "cellMetadata": {
      "byteLimit": 2048000,
      "rowLimit": 10000
     },
     "inputWidgets": {},
     "nuid": "8c1aaa9a-6ac1-4bc2-84bc-c888160006bc",
     "showTitle": false,
     "title": ""
    }
   },
   "outputs": [
    {
     "name": "stdout",
     "output_type": "stream",
     "text": [
      "+--------------------+--------------+------+-------+--------+----+-----+--------------------+\n",
      "|                 App|      Category|rating|reviews|installs|Type|price|              Genres|\n",
      "+--------------------+--------------+------+-------+--------+----+-----+--------------------+\n",
      "|Photo Editor & Ca...|ART_AND_DESIGN|   4.1|    159|   10000|Free|    0|        Art & Design|\n",
      "| Coloring book moana|ART_AND_DESIGN|   3.9|    967|  500000|Free|    0|Art & Design;Pret...|\n",
      "+--------------------+--------------+------+-------+--------+----+-----+--------------------+\n",
      "only showing top 2 rows\n",
      "\n"
     ]
    }
   ],
   "source": [
    "df.show(2)"
   ]
  },
  {
   "cell_type": "markdown",
   "metadata": {},
   "source": [
    "### creating the temporary view 'apps' to apply sql queries on it."
   ]
  },
  {
   "cell_type": "code",
   "execution_count": 0,
   "metadata": {
    "application/vnd.databricks.v1+cell": {
     "cellMetadata": {
      "byteLimit": 2048000,
      "rowLimit": 10000
     },
     "inputWidgets": {},
     "nuid": "8a67a6e3-460d-4c12-b88e-0a71388bd6cd",
     "showTitle": false,
     "title": ""
    }
   },
   "outputs": [],
   "source": [
    "# now change it to temporary view to apply SQL query over it.\n",
    "df.createOrReplaceTempView(\"apps\") # created a temp view with the name apps."
   ]
  },
  {
   "cell_type": "markdown",
   "metadata": {},
   "source": [
    "### top 10 highest total reviewed apps"
   ]
  },
  {
   "cell_type": "code",
   "execution_count": 0,
   "metadata": {
    "application/vnd.databricks.v1+cell": {
     "cellMetadata": {
      "byteLimit": 2048000,
      "implicitDf": true,
      "rowLimit": 10000
     },
     "inputWidgets": {},
     "nuid": "4340ed55-c7e1-4f22-9d89-95b48894e846",
     "showTitle": true,
     "title": "find out top 10 reviews given to the app"
    }
   },
   "outputs": [
    {
     "data": {
      "text/html": [
       "<style scoped>\n",
       "  .table-result-container {\n",
       "    max-height: 300px;\n",
       "    overflow: auto;\n",
       "  }\n",
       "  table, th, td {\n",
       "    border: 1px solid black;\n",
       "    border-collapse: collapse;\n",
       "  }\n",
       "  th, td {\n",
       "    padding: 5px;\n",
       "  }\n",
       "  th {\n",
       "    text-align: left;\n",
       "  }\n",
       "</style><div class='table-result-container'><table class='table-result'><thead style='background-color: white'><tr><th>app</th><th>total_reviews</th></tr></thead><tbody><tr><td>Instagram</td><td>266241989</td></tr><tr><td>WhatsApp Messenger</td><td>207348304</td></tr><tr><td>Clash of Clans</td><td>179558781</td></tr><tr><td>Messenger – Text and Video Chat for Free</td><td>169932272</td></tr><tr><td>Subway Surfers</td><td>166331958</td></tr><tr><td>Candy Crush Saga</td><td>156993136</td></tr><tr><td>Facebook</td><td>156286514</td></tr><tr><td>8 Ball Pool</td><td>99386198</td></tr><tr><td>Clash Royale</td><td>92530298</td></tr><tr><td>Snapchat</td><td>68045010</td></tr></tbody></table></div>"
      ]
     },
     "metadata": {
      "application/vnd.databricks.v1+output": {
       "addedWidgets": {},
       "aggData": [],
       "aggError": "",
       "aggOverflow": false,
       "aggSchema": [],
       "aggSeriesLimitReached": false,
       "aggType": "",
       "arguments": {},
       "columnCustomDisplayInfos": {},
       "data": [
        [
         "Instagram",
         266241989
        ],
        [
         "WhatsApp Messenger",
         207348304
        ],
        [
         "Clash of Clans",
         179558781
        ],
        [
         "Messenger – Text and Video Chat for Free",
         169932272
        ],
        [
         "Subway Surfers",
         166331958
        ],
        [
         "Candy Crush Saga",
         156993136
        ],
        [
         "Facebook",
         156286514
        ],
        [
         "8 Ball Pool",
         99386198
        ],
        [
         "Clash Royale",
         92530298
        ],
        [
         "Snapchat",
         68045010
        ]
       ],
       "datasetInfos": [],
       "dbfsResultPath": null,
       "isJsonSchema": true,
       "metadata": {},
       "overflow": false,
       "plotOptions": {
        "customPlotOptions": {},
        "displayType": "table",
        "pivotAggregation": null,
        "pivotColumns": null,
        "xColumns": null,
        "yColumns": null
       },
       "removedWidgets": [],
       "schema": [
        {
         "metadata": "{}",
         "name": "app",
         "type": "\"string\""
        },
        {
         "metadata": "{}",
         "name": "total_reviews",
         "type": "\"long\""
        }
       ],
       "type": "table"
      }
     },
     "output_type": "display_data"
    }
   ],
   "source": [
    "%sql\n",
    "select app, sum(reviews) as total_reviews from apps group by app order by total_reviews desc limit 10;"
   ]
  },
  {
   "cell_type": "code",
   "execution_count": 0,
   "metadata": {
    "application/vnd.databricks.v1+cell": {
     "cellMetadata": {
      "byteLimit": 2048000,
      "rowLimit": 10000
     },
     "inputWidgets": {},
     "nuid": "f3ac93f5-7a25-4e78-a464-f1193cf32548",
     "showTitle": false,
     "title": ""
    }
   },
   "outputs": [],
   "source": [
    "# storing the result in pyspark dataframe\n",
    "top_10_review = _sqldf"
   ]
  },
  {
   "cell_type": "code",
   "execution_count": 0,
   "metadata": {
    "application/vnd.databricks.v1+cell": {
     "cellMetadata": {
      "byteLimit": 2048000,
      "rowLimit": 10000
     },
     "inputWidgets": {},
     "nuid": "53e7370c-478e-48b6-9002-c9bcaa41d606",
     "showTitle": false,
     "title": ""
    }
   },
   "outputs": [
    {
     "name": "stdout",
     "output_type": "stream",
     "text": [
      "+--------------------+-------------+\n",
      "|                 app|total_reviews|\n",
      "+--------------------+-------------+\n",
      "|           Instagram|    266241989|\n",
      "|  WhatsApp Messenger|    207348304|\n",
      "|      Clash of Clans|    179558781|\n",
      "|Messenger – Text ...|    169932272|\n",
      "|      Subway Surfers|    166331958|\n",
      "|    Candy Crush Saga|    156993136|\n",
      "|            Facebook|    156286514|\n",
      "|         8 Ball Pool|     99386198|\n",
      "|        Clash Royale|     92530298|\n",
      "|            Snapchat|     68045010|\n",
      "+--------------------+-------------+\n",
      "\n"
     ]
    }
   ],
   "source": [
    "top_10_review.show()"
   ]
  },
  {
   "cell_type": "markdown",
   "metadata": {},
   "source": [
    "### Top 10 highest installed apps and their distribution type"
   ]
  },
  {
   "cell_type": "code",
   "execution_count": 0,
   "metadata": {
    "application/vnd.databricks.v1+cell": {
     "cellMetadata": {
      "byteLimit": 2048000,
      "implicitDf": true,
      "rowLimit": 10000
     },
     "inputWidgets": {},
     "nuid": "adcf5cfb-4bfa-467e-a290-a6599d5bbe02",
     "showTitle": true,
     "title": "Top 10 installed apps and distribution type"
    }
   },
   "outputs": [
    {
     "data": {
      "text/html": [
       "<style scoped>\n",
       "  .table-result-container {\n",
       "    max-height: 300px;\n",
       "    overflow: auto;\n",
       "  }\n",
       "  table, th, td {\n",
       "    border: 1px solid black;\n",
       "    border-collapse: collapse;\n",
       "  }\n",
       "  th, td {\n",
       "    padding: 5px;\n",
       "  }\n",
       "  th {\n",
       "    text-align: left;\n",
       "  }\n",
       "</style><div class='table-result-container'><table class='table-result'><thead style='background-color: white'><tr><th>app</th><th>type</th><th>total_installs</th></tr></thead><tbody><tr><td>Subway Surfers</td><td>Free</td><td>6000000000</td></tr><tr><td>Instagram</td><td>Free</td><td>4000000000</td></tr><tr><td>Google Drive</td><td>Free</td><td>4000000000</td></tr><tr><td>Hangouts</td><td>Free</td><td>4000000000</td></tr><tr><td>Google Photos</td><td>Free</td><td>4000000000</td></tr><tr><td>Google News</td><td>Free</td><td>4000000000</td></tr><tr><td>Candy Crush Saga</td><td>Free</td><td>3500000000</td></tr><tr><td>WhatsApp Messenger</td><td>Free</td><td>3000000000</td></tr><tr><td>Gmail</td><td>Free</td><td>3000000000</td></tr><tr><td>Temple Run 2</td><td>Free</td><td>3000000000</td></tr></tbody></table></div>"
      ]
     },
     "metadata": {
      "application/vnd.databricks.v1+output": {
       "addedWidgets": {},
       "aggData": [],
       "aggError": "",
       "aggOverflow": false,
       "aggSchema": [],
       "aggSeriesLimitReached": false,
       "aggType": "",
       "arguments": {},
       "columnCustomDisplayInfos": {},
       "data": [
        [
         "Subway Surfers",
         "Free",
         6000000000
        ],
        [
         "Instagram",
         "Free",
         4000000000
        ],
        [
         "Google Drive",
         "Free",
         4000000000
        ],
        [
         "Hangouts",
         "Free",
         4000000000
        ],
        [
         "Google Photos",
         "Free",
         4000000000
        ],
        [
         "Google News",
         "Free",
         4000000000
        ],
        [
         "Candy Crush Saga",
         "Free",
         3500000000
        ],
        [
         "WhatsApp Messenger",
         "Free",
         3000000000
        ],
        [
         "Gmail",
         "Free",
         3000000000
        ],
        [
         "Temple Run 2",
         "Free",
         3000000000
        ]
       ],
       "datasetInfos": [],
       "dbfsResultPath": null,
       "isJsonSchema": true,
       "metadata": {},
       "overflow": false,
       "plotOptions": {
        "customPlotOptions": {},
        "displayType": "table",
        "pivotAggregation": null,
        "pivotColumns": null,
        "xColumns": null,
        "yColumns": null
       },
       "removedWidgets": [],
       "schema": [
        {
         "metadata": "{}",
         "name": "app",
         "type": "\"string\""
        },
        {
         "metadata": "{}",
         "name": "type",
         "type": "\"string\""
        },
        {
         "metadata": "{}",
         "name": "total_installs",
         "type": "\"long\""
        }
       ],
       "type": "table"
      }
     },
     "output_type": "display_data"
    }
   ],
   "source": [
    "%sql\n",
    "select app, type, sum(installs) as total_installs from apps group by app, type order by total_installs desc limit 10;"
   ]
  },
  {
   "cell_type": "code",
   "execution_count": 0,
   "metadata": {
    "application/vnd.databricks.v1+cell": {
     "cellMetadata": {
      "byteLimit": 2048000,
      "rowLimit": 10000
     },
     "inputWidgets": {},
     "nuid": "60551b2a-cbb0-4835-b188-e525e419ae14",
     "showTitle": false,
     "title": ""
    }
   },
   "outputs": [],
   "source": [
    "highest_install_app = _sqldf"
   ]
  },
  {
   "cell_type": "code",
   "execution_count": 0,
   "metadata": {
    "application/vnd.databricks.v1+cell": {
     "cellMetadata": {
      "byteLimit": 2048000,
      "rowLimit": 10000
     },
     "inputWidgets": {},
     "nuid": "79dedc6b-69b3-4615-a217-651dec81fcae",
     "showTitle": false,
     "title": ""
    }
   },
   "outputs": [
    {
     "name": "stdout",
     "output_type": "stream",
     "text": [
      "+------------------+----+--------------+\n",
      "|               app|type|total_installs|\n",
      "+------------------+----+--------------+\n",
      "|    Subway Surfers|Free|    6000000000|\n",
      "|         Instagram|Free|    4000000000|\n",
      "|      Google Drive|Free|    4000000000|\n",
      "|          Hangouts|Free|    4000000000|\n",
      "|     Google Photos|Free|    4000000000|\n",
      "|       Google News|Free|    4000000000|\n",
      "|  Candy Crush Saga|Free|    3500000000|\n",
      "|WhatsApp Messenger|Free|    3000000000|\n",
      "|             Gmail|Free|    3000000000|\n",
      "|      Temple Run 2|Free|    3000000000|\n",
      "+------------------+----+--------------+\n",
      "\n"
     ]
    }
   ],
   "source": [
    "highest_install_app.show()"
   ]
  },
  {
   "cell_type": "markdown",
   "metadata": {},
   "source": [
    "### category wise distribution of installed apps"
   ]
  },
  {
   "cell_type": "code",
   "execution_count": 0,
   "metadata": {
    "application/vnd.databricks.v1+cell": {
     "cellMetadata": {
      "byteLimit": 2048000,
      "implicitDf": true,
      "rowLimit": 10000
     },
     "inputWidgets": {},
     "nuid": "5cdf88eb-ffb8-4bc0-ba22-e0408ed7f4bc",
     "showTitle": true,
     "title": "Category wise distribution of installed apps"
    }
   },
   "outputs": [
    {
     "data": {
      "text/html": [
       "<style scoped>\n",
       "  .table-result-container {\n",
       "    max-height: 300px;\n",
       "    overflow: auto;\n",
       "  }\n",
       "  table, th, td {\n",
       "    border: 1px solid black;\n",
       "    border-collapse: collapse;\n",
       "  }\n",
       "  th, td {\n",
       "    padding: 5px;\n",
       "  }\n",
       "  th {\n",
       "    text-align: left;\n",
       "  }\n",
       "</style><div class='table-result-container'><table class='table-result'><thead style='background-color: white'><tr><th>category</th><th>total_installs</th></tr></thead><tbody><tr><td>GAME</td><td>35086024415</td></tr><tr><td>COMMUNICATION</td><td>32647276251</td></tr><tr><td>PRODUCTIVITY</td><td>14176091369</td></tr><tr><td>SOCIAL</td><td>14069867902</td></tr><tr><td>TOOLS</td><td>11452771915</td></tr><tr><td>FAMILY</td><td>10258263505</td></tr><tr><td>PHOTOGRAPHY</td><td>10088247655</td></tr><tr><td>NEWS_AND_MAGAZINES</td><td>7496317760</td></tr><tr><td>TRAVEL_AND_LOCAL</td><td>6868887146</td></tr><tr><td>VIDEO_PLAYERS</td><td>6222002720</td></tr><tr><td>SHOPPING</td><td>3247848785</td></tr><tr><td>ENTERTAINMENT</td><td>2869160000</td></tr><tr><td>PERSONALIZATION</td><td>2325494782</td></tr><tr><td>BOOKS_AND_REFERENCE</td><td>1921469576</td></tr><tr><td>SPORTS</td><td>1751174498</td></tr><tr><td>HEALTH_AND_FITNESS</td><td>1582072512</td></tr><tr><td>BUSINESS</td><td>1001914865</td></tr><tr><td>FINANCE</td><td>876648734</td></tr><tr><td>EDUCATION</td><td>871452000</td></tr><tr><td>MAPS_AND_NAVIGATION</td><td>719281890</td></tr><tr><td>LIFESTYLE</td><td>537643539</td></tr><tr><td>WEATHER</td><td>426100520</td></tr><tr><td>FOOD_AND_DRINK</td><td>273898751</td></tr><tr><td>DATING</td><td>264310807</td></tr><tr><td>HOUSE_AND_HOME</td><td>168712461</td></tr><tr><td>ART_AND_DESIGN</td><td>124338100</td></tr><tr><td>LIBRARIES_AND_DEMO</td><td>62995910</td></tr><tr><td>COMICS</td><td>56086150</td></tr><tr><td>MEDICAL</td><td>53257437</td></tr><tr><td>AUTO_AND_VEHICLES</td><td>53130211</td></tr><tr><td>PARENTING</td><td>31521110</td></tr><tr><td>BEAUTY</td><td>27197050</td></tr><tr><td>EVENTS</td><td>15973161</td></tr><tr><td> traffic jams</td><td>44</td></tr><tr><td>Face</td><td>42</td></tr><tr><td>1.9</td><td>null</td></tr></tbody></table></div>"
      ]
     },
     "metadata": {
      "application/vnd.databricks.v1+output": {
       "addedWidgets": {},
       "aggData": [],
       "aggError": "",
       "aggOverflow": false,
       "aggSchema": [],
       "aggSeriesLimitReached": false,
       "aggType": "",
       "arguments": {},
       "columnCustomDisplayInfos": {},
       "data": [
        [
         "GAME",
         35086024415
        ],
        [
         "COMMUNICATION",
         32647276251
        ],
        [
         "PRODUCTIVITY",
         14176091369
        ],
        [
         "SOCIAL",
         14069867902
        ],
        [
         "TOOLS",
         11452771915
        ],
        [
         "FAMILY",
         10258263505
        ],
        [
         "PHOTOGRAPHY",
         10088247655
        ],
        [
         "NEWS_AND_MAGAZINES",
         7496317760
        ],
        [
         "TRAVEL_AND_LOCAL",
         6868887146
        ],
        [
         "VIDEO_PLAYERS",
         6222002720
        ],
        [
         "SHOPPING",
         3247848785
        ],
        [
         "ENTERTAINMENT",
         2869160000
        ],
        [
         "PERSONALIZATION",
         2325494782
        ],
        [
         "BOOKS_AND_REFERENCE",
         1921469576
        ],
        [
         "SPORTS",
         1751174498
        ],
        [
         "HEALTH_AND_FITNESS",
         1582072512
        ],
        [
         "BUSINESS",
         1001914865
        ],
        [
         "FINANCE",
         876648734
        ],
        [
         "EDUCATION",
         871452000
        ],
        [
         "MAPS_AND_NAVIGATION",
         719281890
        ],
        [
         "LIFESTYLE",
         537643539
        ],
        [
         "WEATHER",
         426100520
        ],
        [
         "FOOD_AND_DRINK",
         273898751
        ],
        [
         "DATING",
         264310807
        ],
        [
         "HOUSE_AND_HOME",
         168712461
        ],
        [
         "ART_AND_DESIGN",
         124338100
        ],
        [
         "LIBRARIES_AND_DEMO",
         62995910
        ],
        [
         "COMICS",
         56086150
        ],
        [
         "MEDICAL",
         53257437
        ],
        [
         "AUTO_AND_VEHICLES",
         53130211
        ],
        [
         "PARENTING",
         31521110
        ],
        [
         "BEAUTY",
         27197050
        ],
        [
         "EVENTS",
         15973161
        ],
        [
         " traffic jams",
         44
        ],
        [
         "Face",
         42
        ],
        [
         "1.9",
         null
        ]
       ],
       "datasetInfos": [],
       "dbfsResultPath": null,
       "isJsonSchema": true,
       "metadata": {},
       "overflow": false,
       "plotOptions": {
        "customPlotOptions": {},
        "displayType": "table",
        "pivotAggregation": null,
        "pivotColumns": null,
        "xColumns": null,
        "yColumns": null
       },
       "removedWidgets": [],
       "schema": [
        {
         "metadata": "{}",
         "name": "category",
         "type": "\"string\""
        },
        {
         "metadata": "{}",
         "name": "total_installs",
         "type": "\"long\""
        }
       ],
       "type": "table"
      }
     },
     "output_type": "display_data"
    }
   ],
   "source": [
    "%sql\n",
    "select category, sum(installs) as total_installs from apps group by category order by total_installs desc;"
   ]
  },
  {
   "cell_type": "code",
   "execution_count": 0,
   "metadata": {
    "application/vnd.databricks.v1+cell": {
     "cellMetadata": {
      "byteLimit": 2048000,
      "rowLimit": 10000
     },
     "inputWidgets": {},
     "nuid": "6bb0b4b7-27ef-4cf4-81be-46079ad48acf",
     "showTitle": false,
     "title": ""
    }
   },
   "outputs": [],
   "source": [
    "category_apps_totals = _sqldf"
   ]
  },
  {
   "cell_type": "code",
   "execution_count": 0,
   "metadata": {
    "application/vnd.databricks.v1+cell": {
     "cellMetadata": {
      "byteLimit": 2048000,
      "rowLimit": 10000
     },
     "inputWidgets": {},
     "nuid": "118b4894-ed9a-46fd-975a-9bc1eee92f96",
     "showTitle": false,
     "title": ""
    }
   },
   "outputs": [
    {
     "name": "stdout",
     "output_type": "stream",
     "text": [
      "+-------------------+--------------+\n",
      "|           category|total_installs|\n",
      "+-------------------+--------------+\n",
      "|             EVENTS|      15973161|\n",
      "|             COMICS|      56086150|\n",
      "|             SPORTS|    1751174498|\n",
      "|            WEATHER|     426100520|\n",
      "|      VIDEO_PLAYERS|    6222002720|\n",
      "|  AUTO_AND_VEHICLES|      53130211|\n",
      "|          PARENTING|      31521110|\n",
      "|      ENTERTAINMENT|    2869160000|\n",
      "|    PERSONALIZATION|    2325494782|\n",
      "| HEALTH_AND_FITNESS|    1582072512|\n",
      "|   TRAVEL_AND_LOCAL|    6868887146|\n",
      "|BOOKS_AND_REFERENCE|    1921469576|\n",
      "|     FOOD_AND_DRINK|     273898751|\n",
      "|        PHOTOGRAPHY|   10088247655|\n",
      "|           BUSINESS|    1001914865|\n",
      "|             FAMILY|   10258263505|\n",
      "|           SHOPPING|    3247848785|\n",
      "|     HOUSE_AND_HOME|     168712461|\n",
      "|               GAME|   35086024415|\n",
      "|               Face|            42|\n",
      "+-------------------+--------------+\n",
      "only showing top 20 rows\n",
      "\n"
     ]
    }
   ],
   "source": [
    "category_apps_totals.show()"
   ]
  },
  {
   "cell_type": "markdown",
   "metadata": {},
   "source": [
    "### Top 10 paid apps"
   ]
  },
  {
   "cell_type": "code",
   "execution_count": 0,
   "metadata": {
    "application/vnd.databricks.v1+cell": {
     "cellMetadata": {
      "byteLimit": 2048000,
      "implicitDf": true,
      "rowLimit": 10000
     },
     "inputWidgets": {},
     "nuid": "31c01c6b-6adc-4539-b504-cafe11be8fab",
     "showTitle": true,
     "title": "top paid apps"
    }
   },
   "outputs": [
    {
     "data": {
      "text/html": [
       "<style scoped>\n",
       "  .table-result-container {\n",
       "    max-height: 300px;\n",
       "    overflow: auto;\n",
       "  }\n",
       "  table, th, td {\n",
       "    border: 1px solid black;\n",
       "    border-collapse: collapse;\n",
       "  }\n",
       "  th, td {\n",
       "    padding: 5px;\n",
       "  }\n",
       "  th {\n",
       "    text-align: left;\n",
       "  }\n",
       "</style><div class='table-result-container'><table class='table-result'><thead style='background-color: white'><tr><th>app</th><th>total_price</th></tr></thead><tbody><tr><td>I'm Rich - Trump Edition</td><td>400</td></tr><tr><td>I Am Rich Premium</td><td>399</td></tr><tr><td>I am Rich</td><td>399</td></tr><tr><td>most expensive app (H)</td><td>399</td></tr><tr><td>I am Rich Plus</td><td>399</td></tr></tbody></table></div>"
      ]
     },
     "metadata": {
      "application/vnd.databricks.v1+output": {
       "addedWidgets": {},
       "aggData": [],
       "aggError": "",
       "aggOverflow": false,
       "aggSchema": [],
       "aggSeriesLimitReached": false,
       "aggType": "",
       "arguments": {},
       "columnCustomDisplayInfos": {},
       "data": [
        [
         "I'm Rich - Trump Edition",
         400
        ],
        [
         "I Am Rich Premium",
         399
        ],
        [
         "I am Rich",
         399
        ],
        [
         "most expensive app (H)",
         399
        ],
        [
         "I am Rich Plus",
         399
        ]
       ],
       "datasetInfos": [],
       "dbfsResultPath": null,
       "isJsonSchema": true,
       "metadata": {},
       "overflow": false,
       "plotOptions": {
        "customPlotOptions": {},
        "displayType": "table",
        "pivotAggregation": null,
        "pivotColumns": null,
        "xColumns": null,
        "yColumns": null
       },
       "removedWidgets": [],
       "schema": [
        {
         "metadata": "{}",
         "name": "app",
         "type": "\"string\""
        },
        {
         "metadata": "{}",
         "name": "total_price",
         "type": "\"long\""
        }
       ],
       "type": "table"
      }
     },
     "output_type": "display_data"
    }
   ],
   "source": [
    "%sql\n",
    "select app, sum(price) as total_price from apps where type = 'Paid' group by app order by total_price desc limit 5;"
   ]
  },
  {
   "cell_type": "code",
   "execution_count": 0,
   "metadata": {
    "application/vnd.databricks.v1+cell": {
     "cellMetadata": {
      "byteLimit": 2048000,
      "implicitDf": true,
      "rowLimit": 10000
     },
     "inputWidgets": {},
     "nuid": "9649c78f-19ad-437a-8fb0-7c1dbdc92038",
     "showTitle": false,
     "title": ""
    }
   },
   "outputs": [],
   "source": [
    "top_installed_paid_app = _sqldf"
   ]
  },
  {
   "cell_type": "code",
   "execution_count": 0,
   "metadata": {
    "application/vnd.databricks.v1+cell": {
     "cellMetadata": {
      "byteLimit": 2048000,
      "rowLimit": 10000
     },
     "inputWidgets": {},
     "nuid": "3e82fccc-55c7-4103-96e5-369f13a0609e",
     "showTitle": false,
     "title": ""
    }
   },
   "outputs": [
    {
     "name": "stdout",
     "output_type": "stream",
     "text": [
      "+------------------------+-----------+\n",
      "|app                     |total_price|\n",
      "+------------------------+-----------+\n",
      "|I'm Rich - Trump Edition|400        |\n",
      "|I Am Rich Premium       |399        |\n",
      "|I am Rich               |399        |\n",
      "|most expensive app (H)  |399        |\n",
      "|I am Rich Plus          |399        |\n",
      "+------------------------+-----------+\n",
      "\n"
     ]
    }
   ],
   "source": [
    "top_installed_paid_app.show(truncate=False)"
   ]
  },
  {
   "cell_type": "code",
   "execution_count": 0,
   "metadata": {
    "application/vnd.databricks.v1+cell": {
     "cellMetadata": {},
     "inputWidgets": {},
     "nuid": "1bae4e6f-e542-480b-95c2-53c8855d8dec",
     "showTitle": false,
     "title": ""
    }
   },
   "outputs": [],
   "source": [
    " "
   ]
  }
 ],
 "metadata": {
  "application/vnd.databricks.v1+notebook": {
   "dashboards": [],
   "language": "python",
   "notebookMetadata": {
    "mostRecentlyExecutedCommandWithImplicitDF": {
     "commandId": 1216638044177956,
     "dataframes": [
      "_sqldf"
     ]
    },
    "pythonIndentUnit": 4
   },
   "notebookName": "pysparkProject_playstoreAnalysis",
   "widgets": {}
  },
  "kernelspec": {
   "display_name": "Python 3 (ipykernel)",
   "language": "python",
   "name": "python3"
  },
  "language_info": {
   "codemirror_mode": {
    "name": "ipython",
    "version": 3
   },
   "file_extension": ".py",
   "mimetype": "text/x-python",
   "name": "python",
   "nbconvert_exporter": "python",
   "pygments_lexer": "ipython3",
   "version": "3.10.8"
  }
 },
 "nbformat": 4,
 "nbformat_minor": 1
}
